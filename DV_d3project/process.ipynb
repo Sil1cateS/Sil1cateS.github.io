{
 "cells": [
  {
   "cell_type": "code",
   "execution_count": null,
   "id": "de3ebc24",
   "metadata": {},
   "outputs": [],
   "source": [
    "import numpy as np\n",
    "import pandas as pd"
   ]
  }
 ],
 "metadata": {
  "kernelspec": {
   "display_name": "base",
   "language": "python",
   "name": "python3"
  },
  "language_info": {
   "name": "python",
   "version": "3.9.13"
  }
 },
 "nbformat": 4,
 "nbformat_minor": 5
}
